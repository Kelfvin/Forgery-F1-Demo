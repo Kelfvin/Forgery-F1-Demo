{
 "cells": [
  {
   "cell_type": "markdown",
   "metadata": {},
   "source": [
    "# A demonstration for Controversial $F_1$ Metrics\n",
    "\n",
    "This demonstration was created for evaluation metrics in the field of forged image localization to evaluate the reasonableness of various rating methods. "
   ]
  },
  {
   "cell_type": "code",
   "execution_count": 5,
   "metadata": {},
   "outputs": [],
   "source": [
    "%matplotlib inline\n",
    "import numpy as np\n",
    "import matplotlib.pyplot as plt\n",
    "from sklearn import metrics\n",
    "import cv2\n",
    "import prettytable"
   ]
  },
  {
   "cell_type": "markdown",
   "metadata": {},
   "source": [
    "In order to get a calculation for a more realistic case, we took the [ground truth](https://github.com/CHELSEA234/HiFi_IFDL/blob/main/asset/sample_3_GT.png) and the [prediction](https://github.com/CHELSEA234/HiFi_IFDL/blob/main/asset/sample_3_pred.png) shown in the HiFi-IFDL repository. We downloaded them to the asset directory in the current directory and renamed them to GT.png and pred.png."
   ]
  },
  {
   "cell_type": "markdown",
   "metadata": {},
   "source": [
    "First we read the ground truth $G$ and prediction $P$ from disk."
   ]
  },
  {
   "cell_type": "code",
   "execution_count": 4,
   "metadata": {},
   "outputs": [
    {
     "data": {
      "image/png": "[encoded data removed]",
      "text/plain": [
       "<Figure size 1000x1000 with 2 Axes>"
      ]
     },
     "metadata": {},
     "output_type": "display_data"
    }
   ],
   "source": [
    "\n",
    "def load_image(path):\n",
    "    img = cv2.imread(path, cv2.IMREAD_GRAYSCALE)\n",
    "    img = (img / 255).astype(np.int32)\n",
    "    return img\n",
    "\n",
    "def show_2_images(x:np.ndarray, x_lable:str, y:np.ndarray, y_lable:str):\n",
    "    fig, ax = plt.subplots(1, 2, figsize=(10, 10))\n",
    "\n",
    "    ax[0].imshow(x, cmap='gray')\n",
    "    ax[0].set_title(x_lable)\n",
    "    ax[0].axis('off')\n",
    "\n",
    "    ax[1].imshow(y, cmap='gray')\n",
    "    ax[1].set_title(y_lable)\n",
    "    ax[1].axis('off')\n",
    "\n",
    "    plt.show()\n",
    "\n",
    "\n",
    "G = load_image(\"./asset/GT.png\")\n",
    "P = load_image(\"./asset/pred.png\")\n",
    "\n",
    "show_2_images(G, \"Ground Truth\", P, \"Prediction\")"
   ]
  },
  {
   "cell_type": "markdown",
   "metadata": {},
   "source": [
    "## 1. Common predictions "
   ]
  },
  {
   "cell_type": "markdown",
   "metadata": {},
   "source": [
    "It is easy to see from the naked eye that the prediction is still relatively accurate, in this case we use the binary and macro methods to calculate f1, to explore the effect of different methods on the score."
   ]
  },
  {
   "cell_type": "code",
   "execution_count": 3,
   "metadata": {},
   "outputs": [
    {
     "data": {
      "text/html": [
       "<table>\n",
       "    <thead>\n",
       "        <tr>\n",
       "            <th>ID</th>\n",
       "            <th>Method</th>\n",
       "            <th>F1 score</th>\n",
       "        </tr>\n",
       "    </thead>\n",
       "    <tbody>\n",
       "        <tr>\n",
       "            <td>1</td>\n",
       "            <td>binary_common</td>\n",
       "            <td>0.84</td>\n",
       "        </tr>\n",
       "        <tr>\n",
       "            <td>2</td>\n",
       "            <td>macro_common</td>\n",
       "            <td>0.92</td>\n",
       "        </tr>\n",
       "    </tbody>\n",
       "</table>"
      ],
      "text/plain": [
       "+----+---------------+----------+\n",
       "| ID | Method        | F1 score |\n",
       "+----+---------------+----------+\n",
       "| 1  | binary_common |   0.84   |\n",
       "| 2  | macro_common  |   0.92   |\n",
       "+----+---------------+----------+"
      ]
     },
     "execution_count": 3,
     "metadata": {},
     "output_type": "execute_result"
    }
   ],
   "source": [
    "# for displaying metrics\n",
    "table = prettytable.PrettyTable([\"ID\",\"Method\",\"F1 score\"])\n",
    "table.align[\"Method\"] = \"l\"\n",
    "\n",
    "def format_f1(f1):\n",
    "    return f\"{f1:.2f}\"\n",
    "\n",
    "def caculate_f1_binary_macro(target, predict):\n",
    "    f1_binary_acc =  metrics.f1_score(target.flatten(), predict.flatten(),average='binary')\n",
    "    f1_macro_acc =  metrics.f1_score(target.flatten(), predict.flatten(),average='macro')\n",
    "    return f1_binary_acc, f1_macro_acc\n",
    "\n",
    "f1_binary_common, f1_macro_common = caculate_f1_binary_macro(G, P)\n",
    "table.add_row([\"1\",\"binary_common\",format_f1(f1_binary_common)])\n",
    "table.add_row([\"2\",\"macro_common\",format_f1(f1_macro_common)])\n",
    "table"
   ]
  },
  {
   "cell_type": "markdown",
   "metadata": {},
   "source": [
    "The results show that using macro is 7 points higher than using binary. \n",
    "\n",
    "We can derive the analysis from the following equation\n",
    "\n",
    "$$\n",
    "F1_{macro} - F1_{binary} = \\frac{1}{2+\\frac{FP+FN}{TN}} - \\frac{1}{2+\\frac{FP+FN}{TP}}\n",
    "$$\n",
    "\n",
    "Since $FP+FN>0$, there is $F1_{macro} - F1_{binary} > 0$ when $TN > TP$, and this is a very common situation in IMDL because it is usually easier to predict correctly more backgrounds compared to predicting correctly forged region for models\n",
    "\n",
    "So when use macro, the $F_1$ score usually higher than binary."
   ]
  },
  {
   "cell_type": "markdown",
   "metadata": {},
   "source": [
    "## 2. Black predictions\n",
    "\n",
    "In the course of our research we found that some models produce all-black images when predicting some images, for this case we use macro and binary methods to calculate them separately."
   ]
  },
  {
   "cell_type": "markdown",
   "metadata": {},
   "source": [
    "First we manually create an all-black mask to simulate the output of the model"
   ]
  },
  {
   "cell_type": "code",
   "execution_count": 4,
   "metadata": {},
   "outputs": [
    {
     "data": {
      "image/png": "[encoded data removed]",
      "text/plain": [
       "<Figure size 1000x1000 with 2 Axes>"
      ]
     },
     "metadata": {},
     "output_type": "display_data"
    }
   ],
   "source": [
    "black_pred = np.zeros((G.shape[0], G.shape[1]))\n",
    "\n",
    "show_2_images(G, \"Ground Truth\", black_pred, \"Black Prediction\")"
   ]
  },
  {
   "cell_type": "markdown",
   "metadata": {},
   "source": [
    "Then we perform the calculation of f1 score under binary and macro respectively."
   ]
  },
  {
   "cell_type": "code",
   "execution_count": 5,
   "metadata": {},
   "outputs": [
    {
     "data": {
      "text/html": [
       "<table>\n",
       "    <thead>\n",
       "        <tr>\n",
       "            <th>ID</th>\n",
       "            <th>Method</th>\n",
       "            <th>F1 score</th>\n",
       "        </tr>\n",
       "    </thead>\n",
       "    <tbody>\n",
       "        <tr>\n",
       "            <td>1</td>\n",
       "            <td>binary_common</td>\n",
       "            <td>0.84</td>\n",
       "        </tr>\n",
       "        <tr>\n",
       "            <td>2</td>\n",
       "            <td>macro_common</td>\n",
       "            <td>0.92</td>\n",
       "        </tr>\n",
       "        <tr>\n",
       "            <td>3</td>\n",
       "            <td>binary_black</td>\n",
       "            <td>0.00</td>\n",
       "        </tr>\n",
       "        <tr>\n",
       "            <td>4</td>\n",
       "            <td>macro_black</td>\n",
       "            <td>0.49</td>\n",
       "        </tr>\n",
       "    </tbody>\n",
       "</table>"
      ],
      "text/plain": [
       "+----+---------------+----------+\n",
       "| ID | Method        | F1 score |\n",
       "+----+---------------+----------+\n",
       "| 1  | binary_common |   0.84   |\n",
       "| 2  | macro_common  |   0.92   |\n",
       "| 3  | binary_black  |   0.00   |\n",
       "| 4  | macro_black   |   0.49   |\n",
       "+----+---------------+----------+"
      ]
     },
     "execution_count": 5,
     "metadata": {},
     "output_type": "execute_result"
    }
   ],
   "source": [
    "f1_binary_black = metrics.f1_score(G.flatten(), black_pred.flatten())\n",
    "f1_macro_black = metrics.f1_score(G.flatten(), black_pred.flatten(),average='macro')\n",
    "\n",
    "table.add_row([\"3\",\"binary_black\",format_f1(f1_binary_black)])\n",
    "table.add_row([\"4\",\"macro_black\",format_f1(f1_macro_black)])\n",
    "table"
   ]
  },
  {
   "cell_type": "markdown",
   "metadata": {},
   "source": [
    "Theoretically when the model's prediction is all black, it should be given a very low score due to the fact that it is far from the GROUND TRUTH and the model has made very little contribution. From the results, we can see that the macro case has a score of 0.49, which is very unreasonable compared to the binary's 0.\n",
    "\n",
    "We can derive the analysis from the following equation\n",
    "\n",
    "$$\n",
    "\\begin{align*}\n",
    "\n",
    "F1_{macro} & = \\frac{TP}{2TP + FP + FN} + \\frac{TN}{2TN + FP + FN} \\\\\n",
    "\n",
    "F1_{binary} & = \\frac{2TP}{2TN + FP + FN}\n",
    "\n",
    "\\end{align*}\n",
    "$$\n",
    "\n",
    "In the case of total blackness, $TP = 0$,$FP = 0$, $TN \\neq 0$, $FN\\neq 0$. Also in this case $TN+FN$ equal to the area of the image $I$.\n",
    "\n",
    "$$\n",
    "\\begin{align*}\n",
    "\n",
    "F1_{macro} & =  \\frac{TN}{2TN + FN} = \\frac{1}{1+\\frac{I}{TN}} = \\frac{1}{ 1 + \\frac{1}{\\alpha}} \\\\\n",
    "\n",
    "\\alpha &= \\frac{TN}{I}  \\\\\n",
    "\n",
    "F1_{binary} & = 0\n",
    "\n",
    "\\end{align*}\n",
    "$$\n"
   ]
  },
  {
   "cell_type": "markdown",
   "metadata": {},
   "source": [
    "$\\alpha$ is the proportion of the background area in the ground truth image. Next we draw the curve of $F_1$ score with $\\alpha$."
   ]
  },
  {
   "cell_type": "code",
   "execution_count": 6,
   "metadata": {},
   "outputs": [
    {
     "data": {
      "image/png": "[encoded data removed]",
      "text/plain": [
       "<Figure size 500x500 with 1 Axes>"
      ]
     },
     "metadata": {},
     "output_type": "display_data"
    }
   ],
   "source": [
    "def f1_score_founction_for_black_out(alpha):\n",
    "    sigma = 0.0001\n",
    "    return 1/(1+1/(alpha+sigma))\n",
    "\n",
    "x = np.linspace(0, 1, 100)\n",
    "y = f1_score_founction_for_black_out(x)\n",
    "fig, ax = plt.subplots(1, 1, figsize=(5, 5))\n",
    "ax.plot(x, y)\n",
    "ax.set_xlabel(r'$\\alpha$')\n",
    "ax.set_ylabel(r'$F_1$')\n",
    "plt.show()"
   ]
  },
  {
   "cell_type": "markdown",
   "metadata": {},
   "source": [
    "It is easy to see from the curves that the f1 score computed using the MACRO approach rises as the background becomes a higher and higher fraction of G. The f1 score computed using the MACRO approach rises as well. And usually the proportion of background in G is relatively high. In this case, the f1 score will be inflated.\n",
    "\n",
    "Next we count the percentage of the background in G then enter the formula to calculate the validation."
   ]
  },
  {
   "cell_type": "code",
   "execution_count": 7,
   "metadata": {},
   "outputs": [
    {
     "name": "stdout",
     "output_type": "stream",
     "text": [
      "total_count: 65536\n",
      "alpha: 0.96\n",
      "score: 0.49\n"
     ]
    }
   ],
   "source": [
    "white_count = np.sum(G == 1)\n",
    "black_count = np.sum(G == 0)\n",
    "total_count = white_count + black_count\n",
    "print(f\"total_count: {total_count}\")\n",
    "alpha = black_count / (white_count + black_count)\n",
    "print(f\"alpha: {alpha:.2f}\")\n",
    "print(f\"score: {f1_score_founction_for_black_out(alpha):.2f}\")"
   ]
  },
  {
   "cell_type": "markdown",
   "metadata": {},
   "source": [
    "The percentage of background in G is 0.96, and the calculated f1 score of 0.49 is consistent with the previously obtained results, and the validation is successful.\n",
    "\n",
    "In short, the macro doesn't respond well to model levels when predicting full black, and can lead to very much f1 fudge"
   ]
  },
  {
   "cell_type": "markdown",
   "metadata": {},
   "source": [
    "## 3. No overlap\n",
    "\n",
    "This situation also occurs in IMDL, where the model predicts has none same region with the ground truth, and we can use the same method to calculate the f1 score. First, we manually create a mask with no overlap with the ground truth to simulate the output of the model."
   ]
  },
  {
   "cell_type": "code",
   "execution_count": 8,
   "metadata": {},
   "outputs": [
    {
     "data": {
      "image/png": "[encoded data removed]",
      "text/plain": [
       "<Figure size 1000x1000 with 2 Axes>"
      ]
     },
     "metadata": {},
     "output_type": "display_data"
    }
   ],
   "source": [
    "P = np.zeros_like(G)\n",
    "# draw a rectangle\n",
    "P[80:180, 20:60] = 1\n",
    "show_2_images(G, \"Ground Truth\", P, \"Prediction\")"
   ]
  },
  {
   "cell_type": "markdown",
   "metadata": {},
   "source": [
    "\n",
    "\n",
    "Then we perform the calculation of f1 score under binary and macro respectively."
   ]
  },
  {
   "cell_type": "code",
   "execution_count": 9,
   "metadata": {},
   "outputs": [
    {
     "data": {
      "text/html": [
       "<table>\n",
       "    <thead>\n",
       "        <tr>\n",
       "            <th>ID</th>\n",
       "            <th>Method</th>\n",
       "            <th>F1 score</th>\n",
       "        </tr>\n",
       "    </thead>\n",
       "    <tbody>\n",
       "        <tr>\n",
       "            <td>1</td>\n",
       "            <td>binary_common</td>\n",
       "            <td>0.84</td>\n",
       "        </tr>\n",
       "        <tr>\n",
       "            <td>2</td>\n",
       "            <td>macro_common</td>\n",
       "            <td>0.92</td>\n",
       "        </tr>\n",
       "        <tr>\n",
       "            <td>3</td>\n",
       "            <td>binary_black</td>\n",
       "            <td>0.00</td>\n",
       "        </tr>\n",
       "        <tr>\n",
       "            <td>4</td>\n",
       "            <td>macro_black</td>\n",
       "            <td>0.49</td>\n",
       "        </tr>\n",
       "        <tr>\n",
       "            <td>5</td>\n",
       "            <td>binary_no_overlap</td>\n",
       "            <td>0.00</td>\n",
       "        </tr>\n",
       "        <tr>\n",
       "            <td>6</td>\n",
       "            <td>macro_no_overlap</td>\n",
       "            <td>0.47</td>\n",
       "        </tr>\n",
       "    </tbody>\n",
       "</table>"
      ],
      "text/plain": [
       "+----+-------------------+----------+\n",
       "| ID | Method            | F1 score |\n",
       "+----+-------------------+----------+\n",
       "| 1  | binary_common     |   0.84   |\n",
       "| 2  | macro_common      |   0.92   |\n",
       "| 3  | binary_black      |   0.00   |\n",
       "| 4  | macro_black       |   0.49   |\n",
       "| 5  | binary_no_overlap |   0.00   |\n",
       "| 6  | macro_no_overlap  |   0.47   |\n",
       "+----+-------------------+----------+"
      ]
     },
     "execution_count": 9,
     "metadata": {},
     "output_type": "execute_result"
    }
   ],
   "source": [
    "f1_binary_no_overlap, f1_macro_no_overlap = caculate_f1_binary_macro(G, P)\n",
    "table.add_row([\"5\",\"binary_no_overlap\",format_f1(f1_binary_no_overlap)]) \n",
    "table.add_row([\"6\",\"macro_no_overlap\",format_f1(f1_macro_no_overlap)])\n",
    "table"
   ]
  },
  {
   "cell_type": "markdown",
   "metadata": {},
   "source": [
    "When the prediction and ground truth do not overlap at all, the 0 obtained from the binary calculation is more reasonable than the 0.47 obtained from macro"
   ]
  },
  {
   "cell_type": "markdown",
   "metadata": {},
   "source": [
    "## 5. Conclusion\n",
    "\n",
    "1. Using macro can lead to inflated scores for models.\n",
    "2. Macro does not truly reflect the true performance of the model, and is best reflected in the all-black prediction and the no-overlap case. The higher scores it generates relative to binary's 0 are very unreasonable.\n",
    "\n",
    "It is best to use the binary method in IMDL to calculate the f1 score."
   ]
  }
 ],
 "metadata": {
  "kernelspec": {
   "display_name": "Python 3 (ipykernel)",
   "language": "python",
   "name": "python3"
  },
  "language_info": {
   "codemirror_mode": {
    "name": "ipython",
    "version": 3
   },
   "file_extension": ".py",
   "mimetype": "text/x-python",
   "name": "python",
   "nbconvert_exporter": "python",
   "pygments_lexer": "ipython3",
   "version": "3.12.4"
  }
 },
 "nbformat": 4,
 "nbformat_minor": 4
}
